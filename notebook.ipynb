{
 "cells": [
  {
   "cell_type": "code",
   "execution_count": 1,
   "id": "d3b22d57-396b-4eba-8ca6-df129b161e5b",
   "metadata": {},
   "outputs": [],
   "source": [
    "import numpy as np\n",
    "import pandas as pd\n",
    "from sklearn.model_selection import train_test_split\n"
   ]
  },
  {
   "cell_type": "code",
   "execution_count": 2,
   "id": "a527be0c-846f-442b-a39d-77b2345892ec",
   "metadata": {},
   "outputs": [],
   "source": [
    "data = pd.read_csv(\"fake_or_real_news.csv\")"
   ]
  },
  {
   "cell_type": "code",
   "execution_count": 3,
   "id": "ba74b42d-feab-4729-8e4c-c434dfb2964c",
   "metadata": {},
   "outputs": [],
   "source": [
    "data['fake'] = data['label'].apply(lambda x: 0 if x == \"REAL\" else 1)"
   ]
  },
  {
   "cell_type": "code",
   "execution_count": 4,
   "id": "01d5d4b7-9aa2-4bdd-966f-a237c81a429c",
   "metadata": {},
   "outputs": [],
   "source": [
    "data = data.drop(\"label\", axis=1)"
   ]
  },
  {
   "cell_type": "code",
   "execution_count": 5,
   "id": "8599148a-3edc-4ab5-8071-f25993b37b72",
   "metadata": {},
   "outputs": [],
   "source": [
    "X, y = data['text'], data['fake']"
   ]
  },
  {
   "cell_type": "code",
   "execution_count": 6,
   "id": "08478a4a-f47d-4309-8541-8000cb49abf1",
   "metadata": {},
   "outputs": [],
   "source": [
    "X_train, X_test, y_train, y_test = train_test_split(X, y, test_size=0.2)"
   ]
  },
  {
   "cell_type": "code",
   "execution_count": 7,
   "id": "c1692810-e6f5-4e8b-b668-176797cf8b62",
   "metadata": {},
   "outputs": [
    {
     "data": {
      "text/plain": [
       "4946    Ousted Egyptian president Mohammed Morsi, alon...\n",
       "2256    Bob Dole said Wednesday that Ted Cruz at the t...\n",
       "949     (CNN) Millionaire real estate heir Robert Durs...\n",
       "1034    Negotiations over Iran’s nuclear program appea...\n",
       "5458    \\nNo wonder they’re so confident!\\nDominion Vo...\n",
       "                              ...                        \n",
       "4654    DoubleLine Capital’s Jeffrey Gundlach said Don...\n",
       "778     Wed, 26 Oct 2016 23:00 UTC Authorities in Nort...\n",
       "4789    Prison Planet.com October 26, 2016 \\nOne of No...\n",
       "2244                                                     \n",
       "5113    While You Were Watching the World Series Some ...\n",
       "Name: text, Length: 5068, dtype: object"
      ]
     },
     "execution_count": 7,
     "metadata": {},
     "output_type": "execute_result"
    }
   ],
   "source": [
    "X_train"
   ]
  },
  {
   "cell_type": "code",
   "execution_count": 18,
   "id": "b2dce9d0-8ef3-42e9-8235-6c94f9f06f35",
   "metadata": {},
   "outputs": [
    {
     "name": "stdout",
     "output_type": "stream",
     "text": [
      "Accuracy: 0.9471191791633781\n"
     ]
    },
    {
     "name": "stderr",
     "output_type": "stream",
     "text": [
      "/home/marin/.local/lib/python3.11/site-packages/sklearn/svm/_classes.py:31: FutureWarning: The default value of `dual` will change from `True` to `'auto'` in 1.5. Set the value of `dual` explicitly to suppress the warning.\n",
      "  warnings.warn(\n"
     ]
    }
   ],
   "source": [
    "from sklearn.feature_extraction.text import TfidfVectorizer\n",
    "from sklearn.svm import LinearSVC\n",
    "\n",
    "vectorizer = TfidfVectorizer(stop_words=\"english\", max_df=0.7)\n",
    "X_train_vectorized = vectorizer.fit_transform(X_train)\n",
    "X_test_vectorized = vectorizer.transform(X_test)\n",
    "\n",
    "# Train the classifier\n",
    "clf = LinearSVC()\n",
    "clf.fit(X_train_vectorized, y_train)\n",
    "\n",
    "# Evaluate the classifier\n",
    "accuracy = clf.score(X_test_vectorized, y_test)\n",
    "print(\"Accuracy:\", accuracy)"
   ]
  },
  {
   "cell_type": "code",
   "execution_count": 23,
   "id": "8858b600-301c-4ce4-8291-8033939f1d66",
   "metadata": {},
   "outputs": [],
   "source": [
    "with open(\"text.txt\",\"w\", encoding=\"utf-8\") as f:\n",
    "    f.write(X_test.iloc[10])"
   ]
  },
  {
   "cell_type": "code",
   "execution_count": 24,
   "id": "239ef647-94d9-4953-b05e-261605898884",
   "metadata": {},
   "outputs": [],
   "source": [
    "with open(\"text.txt\",\"r\", encoding=\"utf-8\") as f:\n",
    "    text = f.read()"
   ]
  },
  {
   "cell_type": "code",
   "execution_count": 25,
   "id": "3ba1c60f-e809-40b7-852c-279137ff7f4c",
   "metadata": {},
   "outputs": [],
   "source": [
    "vectorized_text = vectorizer.transform([text])"
   ]
  },
  {
   "cell_type": "code",
   "execution_count": 26,
   "id": "88a5c93c-e394-4a36-a139-7048bcfb7a67",
   "metadata": {},
   "outputs": [
    {
     "data": {
      "text/plain": [
       "array([1])"
      ]
     },
     "execution_count": 26,
     "metadata": {},
     "output_type": "execute_result"
    }
   ],
   "source": [
    "clf.predict(vectorized_text)"
   ]
  },
  {
   "cell_type": "code",
   "execution_count": 28,
   "id": "8c642a83-aa58-4629-90d5-265755aa8188",
   "metadata": {},
   "outputs": [
    {
     "data": {
      "text/plain": [
       "1"
      ]
     },
     "execution_count": 28,
     "metadata": {},
     "output_type": "execute_result"
    }
   ],
   "source": [
    "y_test.iloc[10]"
   ]
  },
  {
   "cell_type": "code",
   "execution_count": null,
   "id": "6c8da33f-076f-4d7c-aec6-82fc93f839c8",
   "metadata": {},
   "outputs": [],
   "source": []
  }
 ],
 "metadata": {
  "kernelspec": {
   "display_name": "Python 3 (ipykernel)",
   "language": "python",
   "name": "python3"
  },
  "language_info": {
   "codemirror_mode": {
    "name": "ipython",
    "version": 3
   },
   "file_extension": ".py",
   "mimetype": "text/x-python",
   "name": "python",
   "nbconvert_exporter": "python",
   "pygments_lexer": "ipython3",
   "version": "3.11.8"
  }
 },
 "nbformat": 4,
 "nbformat_minor": 5
}
